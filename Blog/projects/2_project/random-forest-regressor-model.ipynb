{
 "cells": [
  {
   "cell_type": "code",
   "execution_count": 1,
   "id": "91e717c8",
   "metadata": {
    "_cell_guid": "b1076dfc-b9ad-4769-8c92-a6c4dae69d19",
    "_uuid": "8f2839f25d086af736a60e9eeb907d3b93b6e0e5",
    "execution": {
     "iopub.execute_input": "2024-07-01T18:40:18.882766Z",
     "iopub.status.busy": "2024-07-01T18:40:18.882263Z",
     "iopub.status.idle": "2024-07-01T18:40:19.904110Z",
     "shell.execute_reply": "2024-07-01T18:40:19.902674Z"
    },
    "papermill": {
     "duration": 1.032099,
     "end_time": "2024-07-01T18:40:19.907261",
     "exception": false,
     "start_time": "2024-07-01T18:40:18.875162",
     "status": "completed"
    },
    "tags": []
   },
   "outputs": [],
   "source": [
    "import pandas as pd"
   ]
  },
  {
   "cell_type": "code",
   "execution_count": 2,
   "id": "ec7f48d5",
   "metadata": {
    "execution": {
     "iopub.execute_input": "2024-07-01T18:40:19.919881Z",
     "iopub.status.busy": "2024-07-01T18:40:19.918574Z",
     "iopub.status.idle": "2024-07-01T18:40:20.445115Z",
     "shell.execute_reply": "2024-07-01T18:40:20.443769Z"
    },
    "papermill": {
     "duration": 0.535638,
     "end_time": "2024-07-01T18:40:20.448039",
     "exception": false,
     "start_time": "2024-07-01T18:40:19.912401",
     "status": "completed"
    },
    "tags": []
   },
   "outputs": [],
   "source": [
    "input = '/kaggle/input/football-teams-price-prediction/Football_teams_price_data.csv'\n",
    "df = pd.read_csv(input)"
   ]
  },
  {
   "cell_type": "code",
   "execution_count": 3,
   "id": "e7f0f24c",
   "metadata": {
    "execution": {
     "iopub.execute_input": "2024-07-01T18:40:20.459213Z",
     "iopub.status.busy": "2024-07-01T18:40:20.458802Z",
     "iopub.status.idle": "2024-07-01T18:40:20.565798Z",
     "shell.execute_reply": "2024-07-01T18:40:20.564509Z"
    },
    "papermill": {
     "duration": 0.116143,
     "end_time": "2024-07-01T18:40:20.568902",
     "exception": false,
     "start_time": "2024-07-01T18:40:20.452759",
     "status": "completed"
    },
    "tags": []
   },
   "outputs": [
    {
     "data": {
      "text/plain": [
       "Index(['AveragePlayerAge', 'TotalGoalsLastSeason', 'MatchesWonLastSeason',\n",
       "       'MatchesDrawnLastSeason', 'MatchesLostLastSeason',\n",
       "       'TotalGoalsConcededLastSeason', 'TotalRevenueLastSeason',\n",
       "       'StadiumCapacity', 'AverageAttendance', 'TransferSpendingLastSeason',\n",
       "       'TransferIncomeLastSeason', 'NumberOfTrophies', 'MarketValueOfSquad',\n",
       "       'AveragePlayerMarketValue', 'YouthAcademyRating', 'League', 'Country',\n",
       "       'Manager', 'TeamFormation', 'PlayingStyle', 'HomeCity', 'StadiumType',\n",
       "       'MainSponsor', 'KitManufacturer', 'OwnershipType', 'Price'],\n",
       "      dtype='object')"
      ]
     },
     "execution_count": 3,
     "metadata": {},
     "output_type": "execute_result"
    }
   ],
   "source": [
    "#Setting price to a number\n",
    "df['Price'] = pd.to_numeric(df['Price'].str.replace(',', ''), errors='coerce')\n",
    "\n",
    "#setting prediction as the price\n",
    "y = df.Price\n",
    "\n",
    "#Viewing the columns to see which I will use for the model\n",
    "df.columns"
   ]
  },
  {
   "cell_type": "code",
   "execution_count": 4,
   "id": "7af7a6b7",
   "metadata": {
    "execution": {
     "iopub.execute_input": "2024-07-01T18:40:20.581561Z",
     "iopub.status.busy": "2024-07-01T18:40:20.581103Z",
     "iopub.status.idle": "2024-07-01T18:40:20.594394Z",
     "shell.execute_reply": "2024-07-01T18:40:20.593111Z"
    },
    "papermill": {
     "duration": 0.023059,
     "end_time": "2024-07-01T18:40:20.597265",
     "exception": false,
     "start_time": "2024-07-01T18:40:20.574206",
     "status": "completed"
    },
    "tags": []
   },
   "outputs": [],
   "source": [
    "#Setting features(columns) which the model will use to determine price\n",
    "price_prediction_features = ['TotalRevenueLastSeason','StadiumCapacity','AverageAttendance','MarketValueOfSquad']\n",
    "X = df[price_prediction_features]"
   ]
  },
  {
   "cell_type": "code",
   "execution_count": 5,
   "id": "18cafe64",
   "metadata": {
    "execution": {
     "iopub.execute_input": "2024-07-01T18:40:20.608941Z",
     "iopub.status.busy": "2024-07-01T18:40:20.608554Z",
     "iopub.status.idle": "2024-07-01T18:40:20.653150Z",
     "shell.execute_reply": "2024-07-01T18:40:20.651948Z"
    },
    "papermill": {
     "duration": 0.053458,
     "end_time": "2024-07-01T18:40:20.655707",
     "exception": false,
     "start_time": "2024-07-01T18:40:20.602249",
     "status": "completed"
    },
    "tags": []
   },
   "outputs": [
    {
     "data": {
      "text/html": [
       "<div>\n",
       "<style scoped>\n",
       "    .dataframe tbody tr th:only-of-type {\n",
       "        vertical-align: middle;\n",
       "    }\n",
       "\n",
       "    .dataframe tbody tr th {\n",
       "        vertical-align: top;\n",
       "    }\n",
       "\n",
       "    .dataframe thead th {\n",
       "        text-align: right;\n",
       "    }\n",
       "</style>\n",
       "<table border=\"1\" class=\"dataframe\">\n",
       "  <thead>\n",
       "    <tr style=\"text-align: right;\">\n",
       "      <th></th>\n",
       "      <th>TotalRevenueLastSeason</th>\n",
       "      <th>StadiumCapacity</th>\n",
       "      <th>AverageAttendance</th>\n",
       "      <th>MarketValueOfSquad</th>\n",
       "    </tr>\n",
       "  </thead>\n",
       "  <tbody>\n",
       "    <tr>\n",
       "      <th>count</th>\n",
       "      <td>50000.000000</td>\n",
       "      <td>50000.000000</td>\n",
       "      <td>50000.000000</td>\n",
       "      <td>50000.000000</td>\n",
       "    </tr>\n",
       "    <tr>\n",
       "      <th>mean</th>\n",
       "      <td>274.506391</td>\n",
       "      <td>54854.567880</td>\n",
       "      <td>47425.311150</td>\n",
       "      <td>505.104996</td>\n",
       "    </tr>\n",
       "    <tr>\n",
       "      <th>std</th>\n",
       "      <td>130.150495</td>\n",
       "      <td>25986.349661</td>\n",
       "      <td>24578.631962</td>\n",
       "      <td>286.475400</td>\n",
       "    </tr>\n",
       "    <tr>\n",
       "      <th>min</th>\n",
       "      <td>50.004035</td>\n",
       "      <td>10013.000000</td>\n",
       "      <td>5003.395786</td>\n",
       "      <td>10.005993</td>\n",
       "    </tr>\n",
       "    <tr>\n",
       "      <th>25%</th>\n",
       "      <td>161.259631</td>\n",
       "      <td>32312.250000</td>\n",
       "      <td>26181.373046</td>\n",
       "      <td>257.682086</td>\n",
       "    </tr>\n",
       "    <tr>\n",
       "      <th>50%</th>\n",
       "      <td>274.402274</td>\n",
       "      <td>54814.000000</td>\n",
       "      <td>47449.443426</td>\n",
       "      <td>503.947159</td>\n",
       "    </tr>\n",
       "    <tr>\n",
       "      <th>75%</th>\n",
       "      <td>387.154302</td>\n",
       "      <td>77337.250000</td>\n",
       "      <td>68720.697593</td>\n",
       "      <td>752.608455</td>\n",
       "    </tr>\n",
       "    <tr>\n",
       "      <th>max</th>\n",
       "      <td>499.999691</td>\n",
       "      <td>99997.000000</td>\n",
       "      <td>89998.493713</td>\n",
       "      <td>999.968039</td>\n",
       "    </tr>\n",
       "  </tbody>\n",
       "</table>\n",
       "</div>"
      ],
      "text/plain": [
       "       TotalRevenueLastSeason  StadiumCapacity  AverageAttendance  \\\n",
       "count            50000.000000     50000.000000       50000.000000   \n",
       "mean               274.506391     54854.567880       47425.311150   \n",
       "std                130.150495     25986.349661       24578.631962   \n",
       "min                 50.004035     10013.000000        5003.395786   \n",
       "25%                161.259631     32312.250000       26181.373046   \n",
       "50%                274.402274     54814.000000       47449.443426   \n",
       "75%                387.154302     77337.250000       68720.697593   \n",
       "max                499.999691     99997.000000       89998.493713   \n",
       "\n",
       "       MarketValueOfSquad  \n",
       "count        50000.000000  \n",
       "mean           505.104996  \n",
       "std            286.475400  \n",
       "min             10.005993  \n",
       "25%            257.682086  \n",
       "50%            503.947159  \n",
       "75%            752.608455  \n",
       "max            999.968039  "
      ]
     },
     "execution_count": 5,
     "metadata": {},
     "output_type": "execute_result"
    }
   ],
   "source": [
    "X.describe()"
   ]
  },
  {
   "cell_type": "code",
   "execution_count": 6,
   "id": "0ade8726",
   "metadata": {
    "execution": {
     "iopub.execute_input": "2024-07-01T18:40:20.668104Z",
     "iopub.status.busy": "2024-07-01T18:40:20.667701Z",
     "iopub.status.idle": "2024-07-01T18:40:20.681658Z",
     "shell.execute_reply": "2024-07-01T18:40:20.680363Z"
    },
    "papermill": {
     "duration": 0.023516,
     "end_time": "2024-07-01T18:40:20.684511",
     "exception": false,
     "start_time": "2024-07-01T18:40:20.660995",
     "status": "completed"
    },
    "tags": []
   },
   "outputs": [
    {
     "data": {
      "text/html": [
       "<div>\n",
       "<style scoped>\n",
       "    .dataframe tbody tr th:only-of-type {\n",
       "        vertical-align: middle;\n",
       "    }\n",
       "\n",
       "    .dataframe tbody tr th {\n",
       "        vertical-align: top;\n",
       "    }\n",
       "\n",
       "    .dataframe thead th {\n",
       "        text-align: right;\n",
       "    }\n",
       "</style>\n",
       "<table border=\"1\" class=\"dataframe\">\n",
       "  <thead>\n",
       "    <tr style=\"text-align: right;\">\n",
       "      <th></th>\n",
       "      <th>TotalRevenueLastSeason</th>\n",
       "      <th>StadiumCapacity</th>\n",
       "      <th>AverageAttendance</th>\n",
       "      <th>MarketValueOfSquad</th>\n",
       "    </tr>\n",
       "  </thead>\n",
       "  <tbody>\n",
       "    <tr>\n",
       "      <th>0</th>\n",
       "      <td>337.552001</td>\n",
       "      <td>55766</td>\n",
       "      <td>5229.742720</td>\n",
       "      <td>713.968872</td>\n",
       "    </tr>\n",
       "    <tr>\n",
       "      <th>1</th>\n",
       "      <td>264.850402</td>\n",
       "      <td>15307</td>\n",
       "      <td>46172.738882</td>\n",
       "      <td>236.644694</td>\n",
       "    </tr>\n",
       "    <tr>\n",
       "      <th>2</th>\n",
       "      <td>363.423205</td>\n",
       "      <td>77050</td>\n",
       "      <td>78334.254989</td>\n",
       "      <td>410.502058</td>\n",
       "    </tr>\n",
       "    <tr>\n",
       "      <th>3</th>\n",
       "      <td>296.719959</td>\n",
       "      <td>61440</td>\n",
       "      <td>60080.423819</td>\n",
       "      <td>177.561791</td>\n",
       "    </tr>\n",
       "    <tr>\n",
       "      <th>4</th>\n",
       "      <td>480.928532</td>\n",
       "      <td>78563</td>\n",
       "      <td>10940.950513</td>\n",
       "      <td>562.114099</td>\n",
       "    </tr>\n",
       "  </tbody>\n",
       "</table>\n",
       "</div>"
      ],
      "text/plain": [
       "   TotalRevenueLastSeason  StadiumCapacity  AverageAttendance  \\\n",
       "0              337.552001            55766        5229.742720   \n",
       "1              264.850402            15307       46172.738882   \n",
       "2              363.423205            77050       78334.254989   \n",
       "3              296.719959            61440       60080.423819   \n",
       "4              480.928532            78563       10940.950513   \n",
       "\n",
       "   MarketValueOfSquad  \n",
       "0          713.968872  \n",
       "1          236.644694  \n",
       "2          410.502058  \n",
       "3          177.561791  \n",
       "4          562.114099  "
      ]
     },
     "execution_count": 6,
     "metadata": {},
     "output_type": "execute_result"
    }
   ],
   "source": [
    "X.head()"
   ]
  },
  {
   "cell_type": "code",
   "execution_count": 7,
   "id": "12ea17a4",
   "metadata": {
    "execution": {
     "iopub.execute_input": "2024-07-01T18:40:20.698028Z",
     "iopub.status.busy": "2024-07-01T18:40:20.697607Z",
     "iopub.status.idle": "2024-07-01T18:40:23.503432Z",
     "shell.execute_reply": "2024-07-01T18:40:23.502133Z"
    },
    "papermill": {
     "duration": 2.815853,
     "end_time": "2024-07-01T18:40:23.506543",
     "exception": false,
     "start_time": "2024-07-01T18:40:20.690690",
     "status": "completed"
    },
    "tags": []
   },
   "outputs": [
    {
     "data": {
      "text/html": [
       "<style>#sk-container-id-1 {color: black;background-color: white;}#sk-container-id-1 pre{padding: 0;}#sk-container-id-1 div.sk-toggleable {background-color: white;}#sk-container-id-1 label.sk-toggleable__label {cursor: pointer;display: block;width: 100%;margin-bottom: 0;padding: 0.3em;box-sizing: border-box;text-align: center;}#sk-container-id-1 label.sk-toggleable__label-arrow:before {content: \"▸\";float: left;margin-right: 0.25em;color: #696969;}#sk-container-id-1 label.sk-toggleable__label-arrow:hover:before {color: black;}#sk-container-id-1 div.sk-estimator:hover label.sk-toggleable__label-arrow:before {color: black;}#sk-container-id-1 div.sk-toggleable__content {max-height: 0;max-width: 0;overflow: hidden;text-align: left;background-color: #f0f8ff;}#sk-container-id-1 div.sk-toggleable__content pre {margin: 0.2em;color: black;border-radius: 0.25em;background-color: #f0f8ff;}#sk-container-id-1 input.sk-toggleable__control:checked~div.sk-toggleable__content {max-height: 200px;max-width: 100%;overflow: auto;}#sk-container-id-1 input.sk-toggleable__control:checked~label.sk-toggleable__label-arrow:before {content: \"▾\";}#sk-container-id-1 div.sk-estimator input.sk-toggleable__control:checked~label.sk-toggleable__label {background-color: #d4ebff;}#sk-container-id-1 div.sk-label input.sk-toggleable__control:checked~label.sk-toggleable__label {background-color: #d4ebff;}#sk-container-id-1 input.sk-hidden--visually {border: 0;clip: rect(1px 1px 1px 1px);clip: rect(1px, 1px, 1px, 1px);height: 1px;margin: -1px;overflow: hidden;padding: 0;position: absolute;width: 1px;}#sk-container-id-1 div.sk-estimator {font-family: monospace;background-color: #f0f8ff;border: 1px dotted black;border-radius: 0.25em;box-sizing: border-box;margin-bottom: 0.5em;}#sk-container-id-1 div.sk-estimator:hover {background-color: #d4ebff;}#sk-container-id-1 div.sk-parallel-item::after {content: \"\";width: 100%;border-bottom: 1px solid gray;flex-grow: 1;}#sk-container-id-1 div.sk-label:hover label.sk-toggleable__label {background-color: #d4ebff;}#sk-container-id-1 div.sk-serial::before {content: \"\";position: absolute;border-left: 1px solid gray;box-sizing: border-box;top: 0;bottom: 0;left: 50%;z-index: 0;}#sk-container-id-1 div.sk-serial {display: flex;flex-direction: column;align-items: center;background-color: white;padding-right: 0.2em;padding-left: 0.2em;position: relative;}#sk-container-id-1 div.sk-item {position: relative;z-index: 1;}#sk-container-id-1 div.sk-parallel {display: flex;align-items: stretch;justify-content: center;background-color: white;position: relative;}#sk-container-id-1 div.sk-item::before, #sk-container-id-1 div.sk-parallel-item::before {content: \"\";position: absolute;border-left: 1px solid gray;box-sizing: border-box;top: 0;bottom: 0;left: 50%;z-index: -1;}#sk-container-id-1 div.sk-parallel-item {display: flex;flex-direction: column;z-index: 1;position: relative;background-color: white;}#sk-container-id-1 div.sk-parallel-item:first-child::after {align-self: flex-end;width: 50%;}#sk-container-id-1 div.sk-parallel-item:last-child::after {align-self: flex-start;width: 50%;}#sk-container-id-1 div.sk-parallel-item:only-child::after {width: 0;}#sk-container-id-1 div.sk-dashed-wrapped {border: 1px dashed gray;margin: 0 0.4em 0.5em 0.4em;box-sizing: border-box;padding-bottom: 0.4em;background-color: white;}#sk-container-id-1 div.sk-label label {font-family: monospace;font-weight: bold;display: inline-block;line-height: 1.2em;}#sk-container-id-1 div.sk-label-container {text-align: center;}#sk-container-id-1 div.sk-container {/* jupyter's `normalize.less` sets `[hidden] { display: none; }` but bootstrap.min.css set `[hidden] { display: none !important; }` so we also need the `!important` here to be able to override the default hidden behavior on the sphinx rendered scikit-learn.org. See: https://github.com/scikit-learn/scikit-learn/issues/21755 */display: inline-block !important;position: relative;}#sk-container-id-1 div.sk-text-repr-fallback {display: none;}</style><div id=\"sk-container-id-1\" class=\"sk-top-container\"><div class=\"sk-text-repr-fallback\"><pre>DecisionTreeRegressor(random_state=1)</pre><b>In a Jupyter environment, please rerun this cell to show the HTML representation or trust the notebook. <br />On GitHub, the HTML representation is unable to render, please try loading this page with nbviewer.org.</b></div><div class=\"sk-container\" hidden><div class=\"sk-item\"><div class=\"sk-estimator sk-toggleable\"><input class=\"sk-toggleable__control sk-hidden--visually\" id=\"sk-estimator-id-1\" type=\"checkbox\" checked><label for=\"sk-estimator-id-1\" class=\"sk-toggleable__label sk-toggleable__label-arrow\">DecisionTreeRegressor</label><div class=\"sk-toggleable__content\"><pre>DecisionTreeRegressor(random_state=1)</pre></div></div></div></div></div>"
      ],
      "text/plain": [
       "DecisionTreeRegressor(random_state=1)"
      ]
     },
     "execution_count": 7,
     "metadata": {},
     "output_type": "execute_result"
    }
   ],
   "source": [
    "from sklearn.tree import DecisionTreeRegressor\n",
    "football_team_price_model_1 = DecisionTreeRegressor(random_state = 1)\n",
    "football_team_price_model_1.fit(X,y)"
   ]
  },
  {
   "cell_type": "code",
   "execution_count": 8,
   "id": "5370fda9",
   "metadata": {
    "execution": {
     "iopub.execute_input": "2024-07-01T18:40:23.520312Z",
     "iopub.status.busy": "2024-07-01T18:40:23.519874Z",
     "iopub.status.idle": "2024-07-01T18:40:24.314879Z",
     "shell.execute_reply": "2024-07-01T18:40:24.313257Z"
    },
    "papermill": {
     "duration": 0.807859,
     "end_time": "2024-07-01T18:40:24.320237",
     "exception": false,
     "start_time": "2024-07-01T18:40:23.512378",
     "status": "completed"
    },
    "tags": []
   },
   "outputs": [
    {
     "name": "stdout",
     "output_type": "stream",
     "text": [
      "1523920827.76736\n"
     ]
    }
   ],
   "source": [
    "#Now I will validate the data\n",
    "from sklearn.metrics import mean_absolute_error\n",
    "from sklearn.model_selection import train_test_split\n",
    "train_X, val_X, train_y, val_y = train_test_split(X,y,random_state = 1)\n",
    "football_team_price_model_validation = DecisionTreeRegressor()\n",
    "football_team_price_model_validation.fit(train_X,train_y)\n",
    "val_predictions = football_team_price_model_validation.predict(val_X)\n",
    "print(mean_absolute_error(val_y,val_predictions))"
   ]
  },
  {
   "cell_type": "code",
   "execution_count": 9,
   "id": "95a26843",
   "metadata": {
    "execution": {
     "iopub.execute_input": "2024-07-01T18:40:24.343124Z",
     "iopub.status.busy": "2024-07-01T18:40:24.342508Z",
     "iopub.status.idle": "2024-07-01T18:40:24.348335Z",
     "shell.execute_reply": "2024-07-01T18:40:24.346851Z"
    },
    "papermill": {
     "duration": 0.018987,
     "end_time": "2024-07-01T18:40:24.351211",
     "exception": false,
     "start_time": "2024-07-01T18:40:24.332224",
     "status": "completed"
    },
    "tags": []
   },
   "outputs": [],
   "source": [
    "#Error of 1.5 billion isn't too hot...\n",
    "#I will now build a model with a random forest model"
   ]
  },
  {
   "cell_type": "code",
   "execution_count": 10,
   "id": "d285087a",
   "metadata": {
    "execution": {
     "iopub.execute_input": "2024-07-01T18:40:24.365319Z",
     "iopub.status.busy": "2024-07-01T18:40:24.364871Z",
     "iopub.status.idle": "2024-07-01T18:41:08.448554Z",
     "shell.execute_reply": "2024-07-01T18:41:08.447309Z"
    },
    "papermill": {
     "duration": 44.099642,
     "end_time": "2024-07-01T18:41:08.456848",
     "exception": false,
     "start_time": "2024-07-01T18:40:24.357206",
     "status": "completed"
    },
    "tags": []
   },
   "outputs": [
    {
     "name": "stdout",
     "output_type": "stream",
     "text": [
      "1157624027.9997911\n"
     ]
    }
   ],
   "source": [
    "from sklearn.ensemble import RandomForestRegressor\n",
    "football_team_price_model_2 = RandomForestRegressor(random_state = 1)\n",
    "football_team_price_model_2.fit(train_X,train_y)\n",
    "model_2_prediction = football_team_price_model_2.predict(val_X)\n",
    "print(mean_absolute_error(val_y,model_2_prediction))"
   ]
  },
  {
   "cell_type": "code",
   "execution_count": 11,
   "id": "e5dee4aa",
   "metadata": {
    "execution": {
     "iopub.execute_input": "2024-07-01T18:41:08.470376Z",
     "iopub.status.busy": "2024-07-01T18:41:08.469927Z",
     "iopub.status.idle": "2024-07-01T18:41:08.475461Z",
     "shell.execute_reply": "2024-07-01T18:41:08.474032Z"
    },
    "papermill": {
     "duration": 0.015858,
     "end_time": "2024-07-01T18:41:08.478540",
     "exception": false,
     "start_time": "2024-07-01T18:41:08.462682",
     "status": "completed"
    },
    "tags": []
   },
   "outputs": [],
   "source": [
    "#Not much better, but this model has an error of 1.16 billion"
   ]
  }
 ],
 "metadata": {
  "kaggle": {
   "accelerator": "none",
   "dataSources": [
    {
     "datasetId": 5191172,
     "sourceId": 8663654,
     "sourceType": "datasetVersion"
    }
   ],
   "dockerImageVersionId": 30732,
   "isGpuEnabled": false,
   "isInternetEnabled": true,
   "language": "python",
   "sourceType": "notebook"
  },
  "kernelspec": {
   "display_name": "Python 3",
   "language": "python",
   "name": "python3"
  },
  "language_info": {
   "codemirror_mode": {
    "name": "ipython",
    "version": 3
   },
   "file_extension": ".py",
   "mimetype": "text/x-python",
   "name": "python",
   "nbconvert_exporter": "python",
   "pygments_lexer": "ipython3",
   "version": "3.10.13"
  },
  "papermill": {
   "default_parameters": {},
   "duration": 53.555952,
   "end_time": "2024-07-01T18:41:09.210272",
   "environment_variables": {},
   "exception": null,
   "input_path": "__notebook__.ipynb",
   "output_path": "__notebook__.ipynb",
   "parameters": {},
   "start_time": "2024-07-01T18:40:15.654320",
   "version": "2.5.0"
  }
 },
 "nbformat": 4,
 "nbformat_minor": 5
}
